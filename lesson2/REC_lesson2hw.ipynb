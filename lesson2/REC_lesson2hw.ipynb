{
  "cells": [
    {
      "cell_type": "code",
      "source": [
        "!pip install -qq implicit"
      ],
      "metadata": {
        "colab": {
          "base_uri": "https://localhost:8080/"
        },
        "id": "VunOKk8xvYpR",
        "outputId": "5ee3c82f-8ca2-459a-a8c3-7f5c728ae61d"
      },
      "execution_count": 1,
      "outputs": [
        {
          "output_type": "stream",
          "name": "stdout",
          "text": [
            "\u001b[K     |████████████████████████████████| 18.5 MB 552 kB/s \n",
            "\u001b[?25h"
          ]
        }
      ]
    },
    {
      "cell_type": "code",
      "source": [
        "import implicit\n",
        "implicit.__version__"
      ],
      "metadata": {
        "colab": {
          "base_uri": "https://localhost:8080/",
          "height": 36
        },
        "id": "ZgWfyeQJI1Qh",
        "outputId": "d4ed27e1-35f6-41ee-934f-17479886cd96"
      },
      "execution_count": 43,
      "outputs": [
        {
          "output_type": "execute_result",
          "data": {
            "text/plain": [
              "'0.5.2'"
            ],
            "application/vnd.google.colaboratory.intrinsic+json": {
              "type": "string"
            }
          },
          "metadata": {},
          "execution_count": 43
        }
      ]
    },
    {
      "cell_type": "code",
      "execution_count": 2,
      "metadata": {
        "id": "rgIzW-DSC8Yi"
      },
      "outputs": [],
      "source": [
        "import warnings\n",
        "warnings.filterwarnings('ignore')\n",
        "\n",
        "import pandas as pd\n",
        "import numpy as np\n",
        "import matplotlib.pyplot as plt\n",
        "%matplotlib inline\n",
        "\n",
        "# Для работы с матрицами\n",
        "from scipy.sparse import csr_matrix, coo_matrix\n",
        "\n",
        "# Детерминированные алгоритмы\n",
        "from implicit.nearest_neighbours import ItemItemRecommender, CosineRecommender, TFIDFRecommender, BM25Recommender\n",
        "\n",
        "# Метрики\n",
        "from implicit.evaluation import train_test_split\n",
        "from implicit.evaluation import precision_at_k, mean_average_precision_at_k, AUC_at_k, ndcg_at_k"
      ]
    },
    {
      "cell_type": "code",
      "source": [
        "from google.colab import drive\n",
        "drive.mount('/content/drive')"
      ],
      "metadata": {
        "colab": {
          "base_uri": "https://localhost:8080/"
        },
        "id": "z6iXXHNavcIv",
        "outputId": "38d615b4-02e9-4dba-bb3c-28a69b7a26dc"
      },
      "execution_count": 3,
      "outputs": [
        {
          "output_type": "stream",
          "name": "stdout",
          "text": [
            "Mounted at /content/drive\n"
          ]
        }
      ]
    },
    {
      "cell_type": "code",
      "execution_count": 4,
      "metadata": {
        "colab": {
          "base_uri": "https://localhost:8080/",
          "height": 112
        },
        "id": "9qFkcgyrC8Yt",
        "outputId": "81dcf771-0b15-40b5-e894-8f1bca02b3c3"
      },
      "outputs": [
        {
          "output_type": "execute_result",
          "data": {
            "text/plain": [
              "   user_id    basket_id  day  item_id  quantity  sales_value  store_id  \\\n",
              "0     2375  26984851472    1  1004906         1         1.39       364   \n",
              "1     2375  26984851472    1  1033142         1         0.82       364   \n",
              "\n",
              "   retail_disc  trans_time  week_no  coupon_disc  coupon_match_disc  \n",
              "0         -0.6        1631        1          0.0                0.0  \n",
              "1          0.0        1631        1          0.0                0.0  "
            ],
            "text/html": [
              "\n",
              "  <div id=\"df-b47b093a-f71b-4dc8-9d1a-0c64d82996b0\">\n",
              "    <div class=\"colab-df-container\">\n",
              "      <div>\n",
              "<style scoped>\n",
              "    .dataframe tbody tr th:only-of-type {\n",
              "        vertical-align: middle;\n",
              "    }\n",
              "\n",
              "    .dataframe tbody tr th {\n",
              "        vertical-align: top;\n",
              "    }\n",
              "\n",
              "    .dataframe thead th {\n",
              "        text-align: right;\n",
              "    }\n",
              "</style>\n",
              "<table border=\"1\" class=\"dataframe\">\n",
              "  <thead>\n",
              "    <tr style=\"text-align: right;\">\n",
              "      <th></th>\n",
              "      <th>user_id</th>\n",
              "      <th>basket_id</th>\n",
              "      <th>day</th>\n",
              "      <th>item_id</th>\n",
              "      <th>quantity</th>\n",
              "      <th>sales_value</th>\n",
              "      <th>store_id</th>\n",
              "      <th>retail_disc</th>\n",
              "      <th>trans_time</th>\n",
              "      <th>week_no</th>\n",
              "      <th>coupon_disc</th>\n",
              "      <th>coupon_match_disc</th>\n",
              "    </tr>\n",
              "  </thead>\n",
              "  <tbody>\n",
              "    <tr>\n",
              "      <th>0</th>\n",
              "      <td>2375</td>\n",
              "      <td>26984851472</td>\n",
              "      <td>1</td>\n",
              "      <td>1004906</td>\n",
              "      <td>1</td>\n",
              "      <td>1.39</td>\n",
              "      <td>364</td>\n",
              "      <td>-0.6</td>\n",
              "      <td>1631</td>\n",
              "      <td>1</td>\n",
              "      <td>0.0</td>\n",
              "      <td>0.0</td>\n",
              "    </tr>\n",
              "    <tr>\n",
              "      <th>1</th>\n",
              "      <td>2375</td>\n",
              "      <td>26984851472</td>\n",
              "      <td>1</td>\n",
              "      <td>1033142</td>\n",
              "      <td>1</td>\n",
              "      <td>0.82</td>\n",
              "      <td>364</td>\n",
              "      <td>0.0</td>\n",
              "      <td>1631</td>\n",
              "      <td>1</td>\n",
              "      <td>0.0</td>\n",
              "      <td>0.0</td>\n",
              "    </tr>\n",
              "  </tbody>\n",
              "</table>\n",
              "</div>\n",
              "      <button class=\"colab-df-convert\" onclick=\"convertToInteractive('df-b47b093a-f71b-4dc8-9d1a-0c64d82996b0')\"\n",
              "              title=\"Convert this dataframe to an interactive table.\"\n",
              "              style=\"display:none;\">\n",
              "        \n",
              "  <svg xmlns=\"http://www.w3.org/2000/svg\" height=\"24px\"viewBox=\"0 0 24 24\"\n",
              "       width=\"24px\">\n",
              "    <path d=\"M0 0h24v24H0V0z\" fill=\"none\"/>\n",
              "    <path d=\"M18.56 5.44l.94 2.06.94-2.06 2.06-.94-2.06-.94-.94-2.06-.94 2.06-2.06.94zm-11 1L8.5 8.5l.94-2.06 2.06-.94-2.06-.94L8.5 2.5l-.94 2.06-2.06.94zm10 10l.94 2.06.94-2.06 2.06-.94-2.06-.94-.94-2.06-.94 2.06-2.06.94z\"/><path d=\"M17.41 7.96l-1.37-1.37c-.4-.4-.92-.59-1.43-.59-.52 0-1.04.2-1.43.59L10.3 9.45l-7.72 7.72c-.78.78-.78 2.05 0 2.83L4 21.41c.39.39.9.59 1.41.59.51 0 1.02-.2 1.41-.59l7.78-7.78 2.81-2.81c.8-.78.8-2.07 0-2.86zM5.41 20L4 18.59l7.72-7.72 1.47 1.35L5.41 20z\"/>\n",
              "  </svg>\n",
              "      </button>\n",
              "      \n",
              "  <style>\n",
              "    .colab-df-container {\n",
              "      display:flex;\n",
              "      flex-wrap:wrap;\n",
              "      gap: 12px;\n",
              "    }\n",
              "\n",
              "    .colab-df-convert {\n",
              "      background-color: #E8F0FE;\n",
              "      border: none;\n",
              "      border-radius: 50%;\n",
              "      cursor: pointer;\n",
              "      display: none;\n",
              "      fill: #1967D2;\n",
              "      height: 32px;\n",
              "      padding: 0 0 0 0;\n",
              "      width: 32px;\n",
              "    }\n",
              "\n",
              "    .colab-df-convert:hover {\n",
              "      background-color: #E2EBFA;\n",
              "      box-shadow: 0px 1px 2px rgba(60, 64, 67, 0.3), 0px 1px 3px 1px rgba(60, 64, 67, 0.15);\n",
              "      fill: #174EA6;\n",
              "    }\n",
              "\n",
              "    [theme=dark] .colab-df-convert {\n",
              "      background-color: #3B4455;\n",
              "      fill: #D2E3FC;\n",
              "    }\n",
              "\n",
              "    [theme=dark] .colab-df-convert:hover {\n",
              "      background-color: #434B5C;\n",
              "      box-shadow: 0px 1px 3px 1px rgba(0, 0, 0, 0.15);\n",
              "      filter: drop-shadow(0px 1px 2px rgba(0, 0, 0, 0.3));\n",
              "      fill: #FFFFFF;\n",
              "    }\n",
              "  </style>\n",
              "\n",
              "      <script>\n",
              "        const buttonEl =\n",
              "          document.querySelector('#df-b47b093a-f71b-4dc8-9d1a-0c64d82996b0 button.colab-df-convert');\n",
              "        buttonEl.style.display =\n",
              "          google.colab.kernel.accessAllowed ? 'block' : 'none';\n",
              "\n",
              "        async function convertToInteractive(key) {\n",
              "          const element = document.querySelector('#df-b47b093a-f71b-4dc8-9d1a-0c64d82996b0');\n",
              "          const dataTable =\n",
              "            await google.colab.kernel.invokeFunction('convertToInteractive',\n",
              "                                                     [key], {});\n",
              "          if (!dataTable) return;\n",
              "\n",
              "          const docLinkHtml = 'Like what you see? Visit the ' +\n",
              "            '<a target=\"_blank\" href=https://colab.research.google.com/notebooks/data_table.ipynb>data table notebook</a>'\n",
              "            + ' to learn more about interactive tables.';\n",
              "          element.innerHTML = '';\n",
              "          dataTable['output_type'] = 'display_data';\n",
              "          await google.colab.output.renderOutput(dataTable, element);\n",
              "          const docLink = document.createElement('div');\n",
              "          docLink.innerHTML = docLinkHtml;\n",
              "          element.appendChild(docLink);\n",
              "        }\n",
              "      </script>\n",
              "    </div>\n",
              "  </div>\n",
              "  "
            ]
          },
          "metadata": {},
          "execution_count": 4
        }
      ],
      "source": [
        "data = pd.read_csv('/content/drive/My Drive/webinar_rec2/retail_train.csv')\n",
        "data.head(2)"
      ]
    },
    {
      "cell_type": "code",
      "execution_count": 5,
      "metadata": {
        "id": "epcBZlgJC8Y0"
      },
      "outputs": [],
      "source": [
        "test_size_weeks = 3\n",
        "\n",
        "data_train = data[data['week_no'] < data['week_no'].max() - test_size_weeks]\n",
        "data_test = data[data['week_no'] >= data['week_no'].max() - test_size_weeks]"
      ]
    },
    {
      "cell_type": "markdown",
      "metadata": {
        "id": "zlUUzLFeC8Y4"
      },
      "source": [
        "### Задание 1. Weighted Random Recommendation\n",
        "\n",
        "Напишите код для случайных рекоммендаций, в которых вероятность рекомендовать товар прямо пропорциональна логарифму продаж\n",
        "- Можно сэмплировать товары случайно, но пропорционально какому-либо весу\n",
        "- Например, прямопропорционально популярности. Вес = log(sales_sum товара)"
      ]
    },
    {
      "cell_type": "code",
      "source": [
        "def items_weights_creator(df):\n",
        "    \n",
        "    sales_count = df.groupby('item_id')['quantity'].count().reset_index().sort_values('quantity', ascending=False)\n",
        "    \n",
        "    sales_count.rename(columns = {'quantity':'n_sold'}, inplace=True)\n",
        "    \n",
        "    sales_count['weight'] = np.log(sales_count['n_sold'])/sum(np.log(sales_count['n_sold']))\n",
        "    \n",
        "    sales_count.drop('n_sold', axis=1, inplace=True)\n",
        "        \n",
        "    return sales_count"
      ],
      "metadata": {
        "id": "QZ8wKe2J3q4H"
      },
      "execution_count": 6,
      "outputs": []
    },
    {
      "cell_type": "code",
      "execution_count": 10,
      "metadata": {
        "id": "yCoruH6kvWgT"
      },
      "outputs": [],
      "source": [
        "def get_item_weights(df, pop_type='quantity', eps=1e-10):\n",
        "    if pop_type == 'quantity_fact':\n",
        "        popularity = df.groupby('item_id')['quantity'].count().reset_index()\n",
        "        popularity.rename(columns={'quantity': 'popularity'}, inplace=True)\n",
        "        popularity['weight'] = popularity['popularity'] / len(df)\n",
        "    elif pop_type == 'quantity_log':\n",
        "        popularity = df.groupby('item_id')['quantity'].count().reset_index()\n",
        "        popularity.rename(columns={'quantity': 'popularity'}, inplace=True)\n",
        "        popularity['weight'] = np.log(popularity['popularity']) / np.sum(np.log(popularity['popularity']))\n",
        "    elif pop_type == 'quantity':\n",
        "        popularity = df.groupby('item_id')['quantity'].sum().reset_index()\n",
        "        popularity.rename(columns={'quantity': 'popularity'}, inplace=True)\n",
        "        popularity['weight'] = popularity['popularity'] / np.sum(popularity['popularity'])\n",
        "    elif pop_type == 'sales':\n",
        "        popularity = df.groupby('item_id')['sales_value'].sum().reset_index()\n",
        "        popularity.rename(columns={'sales_value': 'popularity'}, inplace=True)\n",
        "        weights = np.log(popularity.popularity*100 + eps)\n",
        "        weights[weights<0] = 0\n",
        "        popularity['weight'] = weights / np.sum(weights)\n",
        "    else:\n",
        "        raise ValueError(f'Wrong type of popularity type')\n",
        "    popularity.drop('popularity', axis=1, inplace=True)\n",
        "    \n",
        "    return popularity"
      ]
    },
    {
      "cell_type": "code",
      "execution_count": 64,
      "metadata": {
        "id": "6DLhyXNhvWgT"
      },
      "outputs": [],
      "source": [
        "quantity_popularity = get_item_weights(data_train, pop_type='quantity_log')"
      ]
    },
    {
      "cell_type": "code",
      "execution_count": 12,
      "metadata": {
        "id": "brMuCHolC8Y4"
      },
      "outputs": [],
      "source": [
        "def weighted_random_recommendation(items_weights, n=5):\n",
        "    \"\"\"Случайные рекоммендации\n",
        "    \n",
        "    Input\n",
        "    -----\n",
        "    items_weights: pd.DataFrame\n",
        "        Датафрейм со столбцами item_id, weight. Сумма weight по всем товарам = 1\n",
        "    \"\"\"\n",
        "    recs = np.random.choice(items_weights['item_id'], size=n, replace=False, p=items_weights['weight'])\n",
        "    \n",
        "    return recs.tolist()"
      ]
    },
    {
      "cell_type": "code",
      "execution_count": 13,
      "metadata": {
        "id": "xNsXNx3ZvWgU"
      },
      "outputs": [],
      "source": [
        "result = pd.read_csv('/content/drive/My Drive/webinar_rec2/predictions_basic2.csv')"
      ]
    },
    {
      "cell_type": "code",
      "execution_count": 65,
      "metadata": {
        "colab": {
          "base_uri": "https://localhost:8080/"
        },
        "id": "nK_AS3tmC8Y7",
        "outputId": "bd5637db-d569-42dd-be4d-d10c76152a7a"
      },
      "outputs": [
        {
          "output_type": "stream",
          "name": "stdout",
          "text": [
            "CPU times: user 310 ms, sys: 3.97 ms, total: 314 ms\n",
            "Wall time: 316 ms\n"
          ]
        }
      ],
      "source": [
        "%%time\n",
        "\n",
        "result['weighted_random_recommendation'] = result['user_id'].\\\n",
        "                          apply(lambda x: weighted_random_recommendation(quantity_popularity, n=5))"
      ]
    },
    {
      "cell_type": "markdown",
      "metadata": {
        "id": "hyNG6O-wC8Y_"
      },
      "source": [
        "### Задание 2. Расчет метрик\n",
        "Рассчитайте Precision@5 для каждого алгоритма с помощью функции из вебинара 1. Какой алгоритм показывает лучшее качество?"
      ]
    },
    {
      "cell_type": "code",
      "execution_count": 15,
      "metadata": {
        "id": "ngvka7uBvWgW"
      },
      "outputs": [],
      "source": [
        "def precision_at_k(recommended_list, bought_list, k=5):\n",
        "    \n",
        "    bought_list = np.array(bought_list)\n",
        "    recommended_list = np.array(recommended_list)[:k]\n",
        "    \n",
        "    flags = np.isin(bought_list, recommended_list)\n",
        "    \n",
        "    precision = flags.sum() / len(recommended_list)\n",
        "    \n",
        "    return precision"
      ]
    },
    {
      "cell_type": "code",
      "execution_count": 16,
      "metadata": {
        "colab": {
          "base_uri": "https://localhost:8080/",
          "height": 295
        },
        "id": "36HtRgm8C8ZA",
        "outputId": "c2f7d09b-e1fa-48ed-c4fe-421a0e367d02"
      },
      "outputs": [
        {
          "output_type": "execute_result",
          "data": {
            "text/plain": [
              "   user_id                                             actual  \\\n",
              "0        1  [  821867   834484   856942   865456   889248 ...   \n",
              "1        3  [  835476   851057   872021   878302   879948 ...   \n",
              "\n",
              "                            random_recommendation  \\\n",
              "0    [1409814, 1111343, 8157378, 873911, 1081751]   \n",
              "1  [13002761, 329987, 6395533, 13506316, 1134871]   \n",
              "\n",
              "                          popular_recommendation  \\\n",
              "0  [6534178, 6533889, 1029743, 6534166, 1082185]   \n",
              "1  [6534178, 6533889, 1029743, 6534166, 1082185]   \n",
              "\n",
              "                                     itemitem  \\\n",
              "0  [995242, 1127831, 1082185, 999999, 981760]   \n",
              "1  [995242, 1127831, 1082185, 999999, 981760]   \n",
              "\n",
              "                                        cosine  \\\n",
              "0  [1098066, 1127831, 981760, 999999, 1082185]   \n",
              "1  [1098066, 1127831, 981760, 999999, 1082185]   \n",
              "\n",
              "                                         tfidf  \\\n",
              "0  [1098066, 999999, 1127831, 981760, 1082185]   \n",
              "1  [1098066, 999999, 1127831, 981760, 1082185]   \n",
              "\n",
              "                                       own_purchases  \\\n",
              "0  [1081177, 995785, 1004906, 1082185, 1029743, 9...   \n",
              "1  [1081177, 995785, 1004906, 1082185, 1029743, 9...   \n",
              "\n",
              "                  weighted_random_recommendation  \n",
              "0    [847573, 1061732, 1087366, 1120443, 201376]  \n",
              "1  [1133827, 1045220, 12582269, 5565905, 896666]  "
            ],
            "text/html": [
              "\n",
              "  <div id=\"df-39f2e025-6503-45d9-b3e0-3578244e597f\">\n",
              "    <div class=\"colab-df-container\">\n",
              "      <div>\n",
              "<style scoped>\n",
              "    .dataframe tbody tr th:only-of-type {\n",
              "        vertical-align: middle;\n",
              "    }\n",
              "\n",
              "    .dataframe tbody tr th {\n",
              "        vertical-align: top;\n",
              "    }\n",
              "\n",
              "    .dataframe thead th {\n",
              "        text-align: right;\n",
              "    }\n",
              "</style>\n",
              "<table border=\"1\" class=\"dataframe\">\n",
              "  <thead>\n",
              "    <tr style=\"text-align: right;\">\n",
              "      <th></th>\n",
              "      <th>user_id</th>\n",
              "      <th>actual</th>\n",
              "      <th>random_recommendation</th>\n",
              "      <th>popular_recommendation</th>\n",
              "      <th>itemitem</th>\n",
              "      <th>cosine</th>\n",
              "      <th>tfidf</th>\n",
              "      <th>own_purchases</th>\n",
              "      <th>weighted_random_recommendation</th>\n",
              "    </tr>\n",
              "  </thead>\n",
              "  <tbody>\n",
              "    <tr>\n",
              "      <th>0</th>\n",
              "      <td>1</td>\n",
              "      <td>[  821867   834484   856942   865456   889248 ...</td>\n",
              "      <td>[1409814, 1111343, 8157378, 873911, 1081751]</td>\n",
              "      <td>[6534178, 6533889, 1029743, 6534166, 1082185]</td>\n",
              "      <td>[995242, 1127831, 1082185, 999999, 981760]</td>\n",
              "      <td>[1098066, 1127831, 981760, 999999, 1082185]</td>\n",
              "      <td>[1098066, 999999, 1127831, 981760, 1082185]</td>\n",
              "      <td>[1081177, 995785, 1004906, 1082185, 1029743, 9...</td>\n",
              "      <td>[847573, 1061732, 1087366, 1120443, 201376]</td>\n",
              "    </tr>\n",
              "    <tr>\n",
              "      <th>1</th>\n",
              "      <td>3</td>\n",
              "      <td>[  835476   851057   872021   878302   879948 ...</td>\n",
              "      <td>[13002761, 329987, 6395533, 13506316, 1134871]</td>\n",
              "      <td>[6534178, 6533889, 1029743, 6534166, 1082185]</td>\n",
              "      <td>[995242, 1127831, 1082185, 999999, 981760]</td>\n",
              "      <td>[1098066, 1127831, 981760, 999999, 1082185]</td>\n",
              "      <td>[1098066, 999999, 1127831, 981760, 1082185]</td>\n",
              "      <td>[1081177, 995785, 1004906, 1082185, 1029743, 9...</td>\n",
              "      <td>[1133827, 1045220, 12582269, 5565905, 896666]</td>\n",
              "    </tr>\n",
              "  </tbody>\n",
              "</table>\n",
              "</div>\n",
              "      <button class=\"colab-df-convert\" onclick=\"convertToInteractive('df-39f2e025-6503-45d9-b3e0-3578244e597f')\"\n",
              "              title=\"Convert this dataframe to an interactive table.\"\n",
              "              style=\"display:none;\">\n",
              "        \n",
              "  <svg xmlns=\"http://www.w3.org/2000/svg\" height=\"24px\"viewBox=\"0 0 24 24\"\n",
              "       width=\"24px\">\n",
              "    <path d=\"M0 0h24v24H0V0z\" fill=\"none\"/>\n",
              "    <path d=\"M18.56 5.44l.94 2.06.94-2.06 2.06-.94-2.06-.94-.94-2.06-.94 2.06-2.06.94zm-11 1L8.5 8.5l.94-2.06 2.06-.94-2.06-.94L8.5 2.5l-.94 2.06-2.06.94zm10 10l.94 2.06.94-2.06 2.06-.94-2.06-.94-.94-2.06-.94 2.06-2.06.94z\"/><path d=\"M17.41 7.96l-1.37-1.37c-.4-.4-.92-.59-1.43-.59-.52 0-1.04.2-1.43.59L10.3 9.45l-7.72 7.72c-.78.78-.78 2.05 0 2.83L4 21.41c.39.39.9.59 1.41.59.51 0 1.02-.2 1.41-.59l7.78-7.78 2.81-2.81c.8-.78.8-2.07 0-2.86zM5.41 20L4 18.59l7.72-7.72 1.47 1.35L5.41 20z\"/>\n",
              "  </svg>\n",
              "      </button>\n",
              "      \n",
              "  <style>\n",
              "    .colab-df-container {\n",
              "      display:flex;\n",
              "      flex-wrap:wrap;\n",
              "      gap: 12px;\n",
              "    }\n",
              "\n",
              "    .colab-df-convert {\n",
              "      background-color: #E8F0FE;\n",
              "      border: none;\n",
              "      border-radius: 50%;\n",
              "      cursor: pointer;\n",
              "      display: none;\n",
              "      fill: #1967D2;\n",
              "      height: 32px;\n",
              "      padding: 0 0 0 0;\n",
              "      width: 32px;\n",
              "    }\n",
              "\n",
              "    .colab-df-convert:hover {\n",
              "      background-color: #E2EBFA;\n",
              "      box-shadow: 0px 1px 2px rgba(60, 64, 67, 0.3), 0px 1px 3px 1px rgba(60, 64, 67, 0.15);\n",
              "      fill: #174EA6;\n",
              "    }\n",
              "\n",
              "    [theme=dark] .colab-df-convert {\n",
              "      background-color: #3B4455;\n",
              "      fill: #D2E3FC;\n",
              "    }\n",
              "\n",
              "    [theme=dark] .colab-df-convert:hover {\n",
              "      background-color: #434B5C;\n",
              "      box-shadow: 0px 1px 3px 1px rgba(0, 0, 0, 0.15);\n",
              "      filter: drop-shadow(0px 1px 2px rgba(0, 0, 0, 0.3));\n",
              "      fill: #FFFFFF;\n",
              "    }\n",
              "  </style>\n",
              "\n",
              "      <script>\n",
              "        const buttonEl =\n",
              "          document.querySelector('#df-39f2e025-6503-45d9-b3e0-3578244e597f button.colab-df-convert');\n",
              "        buttonEl.style.display =\n",
              "          google.colab.kernel.accessAllowed ? 'block' : 'none';\n",
              "\n",
              "        async function convertToInteractive(key) {\n",
              "          const element = document.querySelector('#df-39f2e025-6503-45d9-b3e0-3578244e597f');\n",
              "          const dataTable =\n",
              "            await google.colab.kernel.invokeFunction('convertToInteractive',\n",
              "                                                     [key], {});\n",
              "          if (!dataTable) return;\n",
              "\n",
              "          const docLinkHtml = 'Like what you see? Visit the ' +\n",
              "            '<a target=\"_blank\" href=https://colab.research.google.com/notebooks/data_table.ipynb>data table notebook</a>'\n",
              "            + ' to learn more about interactive tables.';\n",
              "          element.innerHTML = '';\n",
              "          dataTable['output_type'] = 'display_data';\n",
              "          await google.colab.output.renderOutput(dataTable, element);\n",
              "          const docLink = document.createElement('div');\n",
              "          docLink.innerHTML = docLinkHtml;\n",
              "          element.appendChild(docLink);\n",
              "        }\n",
              "      </script>\n",
              "    </div>\n",
              "  </div>\n",
              "  "
            ]
          },
          "metadata": {},
          "execution_count": 16
        }
      ],
      "source": [
        "result.head(2)"
      ]
    },
    {
      "cell_type": "markdown",
      "source": [
        "##### Reconstruct data dtypes in result"
      ],
      "metadata": {
        "id": "yq8T8CzvHPwJ"
      }
    },
    {
      "cell_type": "code",
      "execution_count": 18,
      "metadata": {
        "id": "4wVJgQmXvWgW"
      },
      "outputs": [],
      "source": [
        "result.actual = result.actual.apply(lambda x: np.array(x.split()[1:-1]).astype(int))"
      ]
    },
    {
      "cell_type": "code",
      "execution_count": 19,
      "metadata": {
        "id": "mUYyKpFKvWgX"
      },
      "outputs": [],
      "source": [
        "for col in result.columns[2:-1]:\n",
        "    result[col] = result[col].apply(lambda x: eval(x))"
      ]
    },
    {
      "cell_type": "markdown",
      "source": [
        "##### Calculate mean precision@k, k = 5"
      ],
      "metadata": {
        "id": "Gnyz-A-uHXYq"
      }
    },
    {
      "cell_type": "code",
      "execution_count": 20,
      "metadata": {
        "colab": {
          "base_uri": "https://localhost:8080/"
        },
        "id": "_0cu0VeTC8ZD",
        "outputId": "00cf4f34-51e7-4615-c03b-ce42446820ca"
      },
      "outputs": [
        {
          "output_type": "execute_result",
          "data": {
            "text/plain": [
              "0.000881488736532811"
            ]
          },
          "metadata": {},
          "execution_count": 20
        }
      ],
      "source": [
        "result.apply(lambda row: precision_at_k(row['random_recommendation'], row['actual']), axis=1).mean()"
      ]
    },
    {
      "cell_type": "code",
      "execution_count": 21,
      "metadata": {
        "colab": {
          "base_uri": "https://localhost:8080/"
        },
        "id": "UxbmgmUGvWgX",
        "outputId": "bb4ebda8-ea9f-4e63-d384-9288b1f5b755"
      },
      "outputs": [
        {
          "output_type": "execute_result",
          "data": {
            "text/plain": [
              "0.14848188050930464"
            ]
          },
          "metadata": {},
          "execution_count": 21
        }
      ],
      "source": [
        "result.apply(lambda row: precision_at_k(row['popular_recommendation'], row['actual']), axis=1).mean()"
      ]
    },
    {
      "cell_type": "code",
      "execution_count": 22,
      "metadata": {
        "colab": {
          "base_uri": "https://localhost:8080/"
        },
        "id": "e6c9ChgmvWgX",
        "outputId": "348bd28f-3734-4944-fcfd-17b7944b03e3"
      },
      "outputs": [
        {
          "output_type": "execute_result",
          "data": {
            "text/plain": [
              "0.13300685602350637"
            ]
          },
          "metadata": {},
          "execution_count": 22
        }
      ],
      "source": [
        "result.apply(lambda row: precision_at_k(row['itemitem'], row['actual']), axis=1).mean()"
      ]
    },
    {
      "cell_type": "code",
      "execution_count": 23,
      "metadata": {
        "colab": {
          "base_uri": "https://localhost:8080/"
        },
        "id": "0M4vabXsvWgX",
        "outputId": "3136df7e-2f8b-4249-8e74-12c00eb7545f"
      },
      "outputs": [
        {
          "output_type": "execute_result",
          "data": {
            "text/plain": [
              "0.11351616062683643"
            ]
          },
          "metadata": {},
          "execution_count": 23
        }
      ],
      "source": [
        "result.apply(lambda row: precision_at_k(row['cosine'], row['actual']), axis=1).mean()"
      ]
    },
    {
      "cell_type": "code",
      "execution_count": 24,
      "metadata": {
        "colab": {
          "base_uri": "https://localhost:8080/"
        },
        "id": "XKvD6KpgvWgX",
        "outputId": "bef83a32-db73-4578-80c3-1f45129f7393"
      },
      "outputs": [
        {
          "output_type": "execute_result",
          "data": {
            "text/plain": [
              "0.11351616062683643"
            ]
          },
          "metadata": {},
          "execution_count": 24
        }
      ],
      "source": [
        "result.apply(lambda row: precision_at_k(row['tfidf'], row['actual']), axis=1).mean()"
      ]
    },
    {
      "cell_type": "code",
      "execution_count": 25,
      "metadata": {
        "colab": {
          "base_uri": "https://localhost:8080/"
        },
        "id": "EuZqT08gvWgY",
        "outputId": "a8720b9e-f0ff-440e-fdcc-7456a4fa98ff"
      },
      "outputs": [
        {
          "output_type": "execute_result",
          "data": {
            "text/plain": [
              "0.1603330068560235"
            ]
          },
          "metadata": {},
          "execution_count": 25
        }
      ],
      "source": [
        "result.apply(lambda row: precision_at_k(row['own_purchases'], row['actual']), axis=1).mean()"
      ]
    },
    {
      "cell_type": "code",
      "execution_count": 26,
      "metadata": {
        "colab": {
          "base_uri": "https://localhost:8080/"
        },
        "id": "Wa9mDyefvWgY",
        "outputId": "ce310cab-611a-43dd-d35d-0cbed1593d54"
      },
      "outputs": [
        {
          "output_type": "execute_result",
          "data": {
            "text/plain": [
              "0.0019588638589618022"
            ]
          },
          "metadata": {},
          "execution_count": 26
        }
      ],
      "source": [
        "result.apply(lambda row: precision_at_k(row['weighted_random_recommendation'], row['actual']), axis=1).mean()"
      ]
    },
    {
      "cell_type": "markdown",
      "metadata": {
        "id": "igDU0j1cC8ZH"
      },
      "source": [
        "### Задание 3*. Улучшение бейзлайнов и ItemItem\n",
        "\n",
        "- Попробуйте улучшить бейзлайны, считая их на топ-5000 товаров\n",
        "- Попробуйте улучшить разные варианты ItemItemRecommender, выбирая число соседей $K$."
      ]
    },
    {
      "cell_type": "code",
      "execution_count": 27,
      "metadata": {
        "id": "zYBR3cMPC8ZH"
      },
      "outputs": [],
      "source": [
        "top_5000 = data_train.groupby('item_id')['quantity'].sum().reset_index().sort_values('quantity', ascending=False).head(5000)"
      ]
    },
    {
      "cell_type": "code",
      "execution_count": 28,
      "metadata": {
        "id": "SvDm4BISvWgZ"
      },
      "outputs": [],
      "source": [
        "data_5000 = data_train.loc[top_5000.index, :]"
      ]
    },
    {
      "cell_type": "code",
      "execution_count": 29,
      "metadata": {
        "id": "aiwa5kiJvWgZ"
      },
      "outputs": [],
      "source": [
        "quantity_popularity_5000 = get_item_weights(data_5000)"
      ]
    },
    {
      "cell_type": "code",
      "execution_count": 30,
      "metadata": {
        "id": "quTdtEW8vWgZ"
      },
      "outputs": [],
      "source": [
        "result['weighted_random_recommendation_5000'] = result['user_id'].apply(lambda x: weighted_random_recommendation(quantity_popularity_5000, n=5))"
      ]
    },
    {
      "cell_type": "code",
      "execution_count": 31,
      "metadata": {
        "colab": {
          "base_uri": "https://localhost:8080/"
        },
        "id": "syZIdRQKvWgZ",
        "outputId": "35a0bb28-dc9d-42ee-8d14-eff327bb261c"
      },
      "outputs": [
        {
          "output_type": "execute_result",
          "data": {
            "text/plain": [
              "0.0494613124387855"
            ]
          },
          "metadata": {},
          "execution_count": 31
        }
      ],
      "source": [
        "result.apply(lambda row: precision_at_k(row['weighted_random_recommendation_5000'], row['actual']), axis=1).mean()"
      ]
    },
    {
      "cell_type": "code",
      "execution_count": 32,
      "metadata": {
        "id": "FqlJGzGQvWgZ"
      },
      "outputs": [],
      "source": [
        "def random_recommendation(items, n=5):\n",
        "    \"\"\"Случайные рекоммендации\"\"\"\n",
        "    \n",
        "    items = np.array(items)\n",
        "    recs = np.random.choice(items, size=n, replace=False)\n",
        "    \n",
        "    return recs.tolist()"
      ]
    },
    {
      "cell_type": "code",
      "execution_count": 33,
      "metadata": {
        "id": "1HeGi3MLvWgZ"
      },
      "outputs": [],
      "source": [
        "items = data_5000.item_id.unique()\n",
        "\n",
        "result['random_recommendation_5000'] = result['user_id'].apply(lambda x: random_recommendation(items, n=5))"
      ]
    },
    {
      "cell_type": "code",
      "execution_count": 34,
      "metadata": {
        "colab": {
          "base_uri": "https://localhost:8080/"
        },
        "id": "mkfWb8gZvWgZ",
        "outputId": "e6cb08f1-d3a3-452f-8c53-05ae0d5d0d0b"
      },
      "outputs": [
        {
          "output_type": "execute_result",
          "data": {
            "text/plain": [
              "0.004505386875612145"
            ]
          },
          "metadata": {},
          "execution_count": 34
        }
      ],
      "source": [
        "result.apply(lambda row: precision_at_k(row['random_recommendation_5000'], row['actual']), axis=1).mean()"
      ]
    },
    {
      "cell_type": "code",
      "execution_count": 35,
      "metadata": {
        "id": "DsNPk1YHvWgZ"
      },
      "outputs": [],
      "source": [
        "def popularity_recommendation(data, n=5):\n",
        "    \"\"\"Топ-n популярных товаров\"\"\"\n",
        "    \n",
        "    popular = data.groupby('item_id')['sales_value'].sum().reset_index()\n",
        "    popular.sort_values('sales_value', ascending=False, inplace=True)\n",
        "    \n",
        "    recs = popular.head(n).item_id\n",
        "    \n",
        "    return recs.tolist()"
      ]
    },
    {
      "cell_type": "code",
      "execution_count": 36,
      "metadata": {
        "id": "5CuxgqK2vWga"
      },
      "outputs": [],
      "source": [
        "popular_recs = popularity_recommendation(data_5000, n=5)\n",
        "\n",
        "result['popular_recommendation_5000'] = result['user_id'].apply(lambda x: popular_recs)"
      ]
    },
    {
      "cell_type": "code",
      "execution_count": 37,
      "metadata": {
        "colab": {
          "base_uri": "https://localhost:8080/"
        },
        "id": "ed3AJf1-vWga",
        "outputId": "26a23396-10b8-40ce-fa7d-c25b88057aa4"
      },
      "outputs": [
        {
          "output_type": "execute_result",
          "data": {
            "text/plain": [
              "0.1670910871694417"
            ]
          },
          "metadata": {},
          "execution_count": 37
        }
      ],
      "source": [
        "result.apply(lambda row: precision_at_k(row['popular_recommendation_5000'], row['actual']), axis=1).mean()"
      ]
    },
    {
      "cell_type": "markdown",
      "metadata": {
        "id": "VYzb7XlNvWga"
      },
      "source": [
        "##### ItemItem Deterministic models"
      ]
    },
    {
      "cell_type": "code",
      "execution_count": 38,
      "metadata": {
        "id": "b3Voz-l1vWga"
      },
      "outputs": [],
      "source": [
        "popularity = data_train.groupby('item_id')['quantity'].sum().reset_index()\n",
        "popularity.rename(columns={'quantity': 'n_sold'}, inplace=True)"
      ]
    },
    {
      "cell_type": "code",
      "execution_count": 39,
      "metadata": {
        "id": "UDElUNIevWga"
      },
      "outputs": [],
      "source": [
        "top_5000 = popularity.sort_values('n_sold', ascending=False).head(5000).item_id.tolist()"
      ]
    },
    {
      "cell_type": "code",
      "execution_count": 40,
      "metadata": {
        "id": "fX4gYkNZvWga"
      },
      "outputs": [],
      "source": [
        "data_train.loc[~data_train['item_id'].isin(top_5000), 'item_id'] = 999999\n",
        "\n",
        "user_item_matrix = pd.pivot_table(data_train, \n",
        "                                  index='user_id', columns='item_id', \n",
        "                                  values='quantity',\n",
        "                                  aggfunc='count', \n",
        "                                  fill_value=0\n",
        "                                 )\n",
        "\n",
        "user_item_matrix[user_item_matrix > 0] = 1 # так как в итоге хотим предсказать \n",
        "user_item_matrix = user_item_matrix.astype(float) # необходимый тип матрицы для implicit\n",
        "\n",
        "# переведем в формат saprse matrix\n",
        "sparse_user_item = csr_matrix(user_item_matrix).tocsr()\n",
        "sparse_item_user = sparse_user_item.T.tocsr()"
      ]
    },
    {
      "cell_type": "code",
      "execution_count": 41,
      "metadata": {
        "id": "05NhFGytvWga"
      },
      "outputs": [],
      "source": [
        "userids = user_item_matrix.index.values\n",
        "itemids = user_item_matrix.columns.values\n",
        "\n",
        "matrix_userids = np.arange(len(userids))\n",
        "matrix_itemids = np.arange(len(itemids))\n",
        "\n",
        "id_to_itemid = dict(zip(matrix_itemids, itemids))\n",
        "id_to_userid = dict(zip(matrix_userids, userids))\n",
        "\n",
        "itemid_to_id = dict(zip(itemids, matrix_itemids))\n",
        "userid_to_id = dict(zip(userids, matrix_userids))"
      ]
    },
    {
      "cell_type": "markdown",
      "source": [
        "##### For-loop for K-neighbors selection"
      ],
      "metadata": {
        "id": "cED9JdGCJP6k"
      }
    },
    {
      "cell_type": "code",
      "source": [
        "best_score = -np.inf\n",
        "best_K = 0\n",
        "\n",
        "for j in range(2, 16):\n",
        "    model = ItemItemRecommender(K=j, num_threads=4)\n",
        "    model.fit(csr_matrix(user_item_matrix).tocsr(), show_progress=False)\n",
        "    result[f'itemitem_K{j}'] = result['user_id'].\\\n",
        "    apply(lambda x: [id_to_itemid[i] for i in model.recommend(userid=userid_to_id[x], \n",
        "                                    user_items=sparse_user_item,\n",
        "                                    N=5, \n",
        "                                    filter_already_liked_items=False, \n",
        "                                    filter_items=[itemid_to_id[999999]], \n",
        "                                    recalculate_user=True)[0]])\n",
        "    score = result.apply(lambda row: precision_at_k(row[f'itemitem_K{j}'], row['actual']), axis=1).mean()\n",
        "    if score > best_score:\n",
        "        best_score = score\n",
        "        best_K = j\n",
        "print(f'Best precision@5: {best_score*100:2.4f}, number of neighbors: {best_K}.')"
      ],
      "metadata": {
        "colab": {
          "base_uri": "https://localhost:8080/"
        },
        "id": "e72pAi7C_OAF",
        "outputId": "90aed96e-e324-4243-e7fc-689dbdb3792a"
      },
      "execution_count": 52,
      "outputs": [
        {
          "output_type": "stream",
          "name": "stdout",
          "text": [
            "Best precision@5: 19.0891, number of neighbors: 3.\n"
          ]
        }
      ]
    },
    {
      "cell_type": "code",
      "source": [
        "best_score = -np.inf\n",
        "best_K = 0\n",
        "\n",
        "for j in range(1, 16):\n",
        "    model = CosineRecommender(K=j, num_threads=4)\n",
        "    model.fit(csr_matrix(user_item_matrix).tocsr(), show_progress=False)\n",
        "    result[f'cosine_K{j}'] = result['user_id'].\\\n",
        "                              apply(lambda x: [id_to_itemid[i] for i in model.recommend(userid=userid_to_id[x], \n",
        "                                                                                        user_items=sparse_user_item,\n",
        "                                                                                        N=5, \n",
        "                                                                                        filter_already_liked_items=False, \n",
        "                                                                                        filter_items=[itemid_to_id[999999]], \n",
        "                                                                                        recalculate_user=True)[0]])\n",
        "    score = result.apply(lambda row: precision_at_k(row[f'cosine_K{j}'], row['actual']), axis=1).mean()\n",
        "    if score > best_score:\n",
        "        best_score = score\n",
        "        best_K = j\n",
        "print(f'Best precision@5: {best_score*100:2.4f}, number of neighbors: {best_K}.')"
      ],
      "metadata": {
        "colab": {
          "base_uri": "https://localhost:8080/"
        },
        "id": "FrirbMX3TMXr",
        "outputId": "85a20419-316b-4235-d129-5fb2a334b77c"
      },
      "execution_count": 55,
      "outputs": [
        {
          "output_type": "stream",
          "name": "stdout",
          "text": [
            "Best precision@5: 14.4858, number of neighbors: 12.\n"
          ]
        }
      ]
    },
    {
      "cell_type": "code",
      "source": [
        "best_score = -np.inf\n",
        "best_K = 0\n",
        "\n",
        "for k in range(1, 16):\n",
        "    model = TFIDFRecommender(K=k, num_threads=4)\n",
        "    model.fit(csr_matrix(user_item_matrix).tocsr(), show_progress=False)\n",
        "    result[f'tfidf_K{k}'] = result['user_id'].\\\n",
        "                            apply(lambda x: [id_to_itemid[i] for i in model.recommend(userid=userid_to_id[x], \n",
        "                                                                                      user_items=sparse_user_item,\n",
        "                                                                                      N=5, \n",
        "                                                                                      filter_already_liked_items=False, \n",
        "                                                                                      filter_items=[itemid_to_id[999999]], \n",
        "                                                                                      recalculate_user=True)[0]])\n",
        "    score = result.apply(lambda row: precision_at_k(row[f'tfidf_K{k}'], row['actual']), axis=1).mean()\n",
        "    if score > best_score:\n",
        "        best_score = score\n",
        "        best_K = k\n",
        "print(f'Best precision@5: {best_score*100:2.4f}, number of neighbors: {best_K}.')"
      ],
      "metadata": {
        "colab": {
          "base_uri": "https://localhost:8080/"
        },
        "id": "37zfBLkZLFq4",
        "outputId": "e6f83fe2-017e-4d0e-a267-051a40901414"
      },
      "execution_count": 56,
      "outputs": [
        {
          "output_type": "stream",
          "name": "stdout",
          "text": [
            "Best precision@5: 14.4858, number of neighbors: 3.\n"
          ]
        }
      ]
    }
  ],
  "metadata": {
    "colab": {
      "name": "REC_lesson2hw.ipynb",
      "provenance": [],
      "collapsed_sections": []
    },
    "kernelspec": {
      "display_name": "Python 3 (ipykernel)",
      "language": "python",
      "name": "python3"
    },
    "language_info": {
      "codemirror_mode": {
        "name": "ipython",
        "version": 3
      },
      "file_extension": ".py",
      "mimetype": "text/x-python",
      "name": "python",
      "nbconvert_exporter": "python",
      "pygments_lexer": "ipython3",
      "version": "3.10.4"
    }
  },
  "nbformat": 4,
  "nbformat_minor": 0
}